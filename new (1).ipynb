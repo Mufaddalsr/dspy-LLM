{
 "cells": [
  {
   "cell_type": "code",
   "execution_count": 28,
   "id": "34abcd01-0f9e-4ae5-9ed3-5e8b726d3c6f",
   "metadata": {
    "tags": []
   },
   "outputs": [],
   "source": [
    "#from helper import *\n",
    "#from llama_cpp import Llama\n",
    "#from huggingface_hub import hf_hub_download\n",
    "from mistral_sample import lm_mistral_generate_text\n",
    "\n",
    "\n",
    "\n",
    "from qdrant_client import QdrantClient\n",
    "from qdrant_client.models import Distance, VectorParams, PointStruct\n",
    "import uuid\n",
    "\n",
    "import dspy\n",
    "\n",
    "import json\n",
    "import time\n",
    "\n",
    "import requests\n",
    "from bs4 import BeautifulSoup\n",
    "import markdownify\n",
    "#from llama_cpp import Llama\n",
    "#from llama_cpp import LogitsProcessorList\n",
    "#from lmformatenforcer import CharacterLevelParser\n",
    "#from lmformatenforcer.integrations.llamacpp import build_llamacpp_logits_processor\n",
    "from typing import Optional\n",
    "from pydantic import BaseModel, Field\n",
    "from lmformatenforcer import JsonSchemaParser\n",
    "from lmformatenforcer import CharacterLevelParser\n"
   ]
  },
  {
   "cell_type": "code",
   "execution_count": 6,
   "id": "d96d3043-4664-4e9b-b87c-3b6dd1e8ab8c",
   "metadata": {
    "tags": []
   },
   "outputs": [],
   "source": [
    "import torch\n",
    "torch.cuda.empty_cache()\n"
   ]
  },
  {
   "cell_type": "markdown",
   "id": "789498ad-ec45-4e9f-8883-fd96ac043e6a",
   "metadata": {},
   "source": [
    "### Groq model definition"
   ]
  },
  {
   "cell_type": "code",
   "execution_count": 25,
   "id": "dceefefd-5f66-4f12-8939-ec914416d87d",
   "metadata": {
    "tags": []
   },
   "outputs": [],
   "source": [
    "torch.cuda.empty_cache()\n",
    "\n",
    "llm_groq = dspy.GROQ(model='llama3-70b-8192', \n",
    "               api_key=\"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\",\n",
    "               max_tokens=8000)\n",
    "#print(lm(\"How is India to visit in summer and what are the places to visit in summer list out 10 places?\"))"
   ]
  },
  {
   "cell_type": "code",
   "execution_count": 3,
   "id": "5ebda798-b3b2-47f9-af6d-4eb8ecc088e6",
   "metadata": {},
   "outputs": [],
   "source": [
    "\n",
    "class Conference(BaseModel):\n",
    "    name: str = Field(description=\"Name of the conference\")\n",
    "    location: Optional[str] = Field(description=\"Location of the conference\")\n",
    "    date: Optional[str] = Field(description=\"Date of the conference in the following format DD/MM/YYYY\")\n",
    "\n",
    "class Conferences(BaseModel):\n",
    "    conferences: list[Conference] = Field(description=\"List of Conferences\")"
   ]
  },
  {
   "cell_type": "markdown",
   "id": "0711e77f-3741-4131-b374-b7246ecd3e21",
   "metadata": {},
   "source": [
    "### Pydantic model in Json format"
   ]
  },
  {
   "cell_type": "code",
   "execution_count": 4,
   "id": "0d314cef-0528-40f9-a8ac-d8c1f80b3ff4",
   "metadata": {
    "tags": []
   },
   "outputs": [],
   "source": [
    "\n",
    "class Queries(BaseModel):\n",
    "    queries: list[str] = Field(description=\"Google Search Query for Topic\")"
   ]
  },
  {
   "cell_type": "markdown",
   "id": "5eec55b8-b98c-4f89-a22a-adc543eb9093",
   "metadata": {},
   "source": [
    "### Function to parse the raw llm output as Json format"
   ]
  },
  {
   "cell_type": "markdown",
   "id": "8c33356c-0688-438f-8c2f-02942301aac3",
   "metadata": {},
   "source": [
    "### Generate the search queries"
   ]
  },
  {
   "cell_type": "markdown",
   "id": "ad97b66d-3fcc-457f-8301-69937f3a187d",
   "metadata": {},
   "source": [
    "### Implement chain of thoughts here so that it only respond with a dictionary without any string beforehand"
   ]
  },
  {
   "cell_type": "code",
   "execution_count": 5,
   "id": "2d077810-d0e7-43ba-9f56-130e5df537bc",
   "metadata": {
    "tags": []
   },
   "outputs": [],
   "source": [
    "def llm_generate_search_queries(lm_mistral_generate_text, prompt: str) -> list[str]:\n",
    "    #prompt = f\"{prompt}\\nYou MUST answer using the following json schema: {Queries.model_json_schema()}\"\n",
    "    #torch.cuda.empty_cache()\n",
    "\n",
    "    schema = Queries.model_json_schema()\n",
    "    full_prompt = f\"\"\"{prompt}\n",
    "\n",
    "You MUST respond only with a JSON object that follows this schema:\n",
    "{json.dumps(schema, indent=2)}\n",
    "\n",
    "Ensure your response is valid JSON and matches the schema exactly.\"\"\"\n",
    "\n",
    "    response = lm_mistral_generate_text(full_prompt)\n",
    "    \n",
    "    \n",
    "    # Parse the JSON string\n",
    "    parsed_json = json.loads(response)\n",
    "\n",
    "    # Extract the queries\n",
    "    queries = parsed_json[\"queries\"]\n",
    "    #torch.cuda.empty_cache()\n",
    "\n",
    "\n",
    "    return queries\n",
    "    \n",
    "    \n",
    "    "
   ]
  },
  {
   "cell_type": "markdown",
   "id": "1e365656-80e3-4703-b836-8d993f7c89a3",
   "metadata": {},
   "source": [
    "### Getting the urls from prompt"
   ]
  },
  {
   "cell_type": "code",
   "execution_count": 6,
   "id": "60934cdf-b45c-4c16-bc48-b50846f3f9e2",
   "metadata": {
    "tags": []
   },
   "outputs": [],
   "source": [
    "headers = {\n",
    "    'User-Agent': 'Mozilla/5.0 (Windows NT 10.0; Win64; x64; rv:132.0) Gecko/20100101 Firefox/132.0',\n",
    "    'Accept': 'text/html,application/xhtml+xml,application/xml;q=0.9,*/*;q=0.8',\n",
    "    'Accept-Encoding': 'gzip, deflate',\n",
    "    'DNT': '1',\n",
    "    'Connection': 'keep-alive',\n",
    "    'Upgrade-Insecure-Requests': '1'\n",
    "}"
   ]
  },
  {
   "cell_type": "code",
   "execution_count": 8,
   "id": "326d3d2f-d05d-4ef4-bfaa-3168907c65f1",
   "metadata": {},
   "outputs": [],
   "source": [
    "def get_top_urls_for_google_search_query(query: str, number: int = 5) -> list[dict]:\n",
    "    url = f\"https://www.google.com/search?q={query}\"\n",
    "   # torch.cuda.empty_cache()\n",
    "\n",
    "    \n",
    "    response = requests.get(url, headers=headers)\n",
    "    soup = BeautifulSoup(response.text, \"html.parser\")\n",
    "    \n",
    "    results_div = soup.find(\"div\", id=\"rso\") # list of urls inside this elem\n",
    "    if not results_div:\n",
    "        print(\"FAILED BECAUSE GOOGLE SEARCH OUTPUT CHANGED!\")\n",
    "        return []\n",
    "    \n",
    "    output = []\n",
    "    for a_tag in results_div.find_all(\"a\", href=True):\n",
    "        title_tag = a_tag.find(\"h3\")\n",
    "        if title_tag:\n",
    "            title = title_tag.get_text()\n",
    "            url = a_tag['href']\n",
    "            output.append({\"title\": title, \"url\": url})\n",
    "            if len(output) >= number:\n",
    "                break\n",
    "    \n",
    "    #torch.cuda.empty_cache()\n",
    "\n",
    "    return output"
   ]
  },
  {
   "cell_type": "markdown",
   "id": "fad15f47-8e81-4f80-a763-30d8fc0d3f54",
   "metadata": {},
   "source": [
    "### Scrapping the Google page"
   ]
  },
  {
   "cell_type": "code",
   "execution_count": 9,
   "id": "5bebb933-4986-4871-a01d-b507b2d17192",
   "metadata": {},
   "outputs": [],
   "source": [
    "def scrape_and_convert_to_markdown(urls: list[str]) -> list[str]:\n",
    "    markdown_texts = []\n",
    "    for url in urls:\n",
    "        response = requests.get(url, headers=headers)\n",
    "        soup = BeautifulSoup(response.text, \"html.parser\")\n",
    "        try:\n",
    "            markdown_text = markdownify.markdownify(str(soup))\n",
    "            markdown_texts.append(markdown_text)\n",
    "        except Exception as e:\n",
    "            print(f\"Error fetching {url}: {e}\")\n",
    "            continue\n",
    "\n",
    "    return markdown_texts"
   ]
  },
  {
   "cell_type": "markdown",
   "id": "805a6928-27ac-4cb9-9745-5deb43abd313",
   "metadata": {},
   "source": [
    "### get the AI Conference details"
   ]
  },
  {
   "cell_type": "code",
   "execution_count": 32,
   "id": "f32cc519-d9a0-4920-906d-e4de07320006",
   "metadata": {
    "tags": []
   },
   "outputs": [],
   "source": [
    "def ask_llm_for_conferences(lm_mistral_generate_text, markdown_texts: list[str]) -> list[Conference]:\n",
    "    import torch\n",
    "    #torch.cuda.empty_cache()\n",
    "\n",
    "    conferences = []\n",
    "    \n",
    "    for idx, text in enumerate(markdown_texts):\n",
    "        time.sleep(60)\n",
    "        print(f\"Working on {idx + 1}/{len(markdown_texts)}:\")\n",
    "        \n",
    "        schema = Conferences.model_json_schema()\n",
    "        prompt = f\"\"\"You are an AI assistant. Based on the scraped search result below, extract and provide the top academic AI conferences in 2025 in the format of a JSON list.\n",
    "                    Scraped Content:\n",
    "                    {text[:4096]}\n",
    "                    You MUST answer using the following json schema:  {json.dumps(schema, indent=2)}\"\"\"\n",
    "        \n",
    "        output = lm_mistral_generate_text(prompt)\n",
    "        \n",
    "        conferences.append(output)\n",
    "    \n",
    "\n",
    "    \n",
    "            \n",
    "    \n",
    "    #torch.cuda.empty_cache()\n",
    "\n",
    "    \n",
    "    return conferences"
   ]
  },
  {
   "cell_type": "markdown",
   "id": "30f0941b-d546-4fa9-94f9-c15f6185849b",
   "metadata": {},
   "source": [
    "### queries"
   ]
  },
  {
   "cell_type": "code",
   "execution_count": 11,
   "id": "04a848b6-edc9-4214-910f-1e7984299914",
   "metadata": {
    "tags": []
   },
   "outputs": [
    {
     "name": "stderr",
     "output_type": "stream",
     "text": [
      "The attention mask and the pad token id were not set. As a consequence, you may observe unexpected behavior. Please pass your input's `attention_mask` to obtain reliable results.\n",
      "Setting `pad_token_id` to `eos_token_id`:None for open-end generation.\n",
      "The attention mask is not set and cannot be inferred from input because pad token is same as eos token. As a consequence, you may observe unexpected behavior. Please pass your input's `attention_mask` to obtain reliable results.\n"
     ]
    },
    {
     "name": "stdout",
     "output_type": "stream",
     "text": [
      "['Top AI conferences in 2025', 'Machine learning conferences 2025', 'Natural language processing conferences 2025', 'Computer vision conferences 2025', 'Top AI research conferences 2025']\n"
     ]
    }
   ],
   "source": [
    "prompt = f\"\"\"Generate five different Google search queries to find information on the top academic AI conferences in 2025.\n",
    "            These queries should be tailored to discover high-impact conferences covering fields like machine learning, natural language processing,\n",
    "            computer vision, and other areas within AI.\"\"\"\n",
    "queries = llm_generate_search_queries(lm_mistral_generate_text, prompt)\n",
    "print(queries)\n"
   ]
  },
  {
   "cell_type": "markdown",
   "id": "bd6e994c-fc16-4bfc-8646-4c2f3408d632",
   "metadata": {},
   "source": [
    "### urls"
   ]
  },
  {
   "cell_type": "code",
   "execution_count": 12,
   "id": "9bdd45b4-f598-4c0d-bcdd-faac965fd739",
   "metadata": {
    "tags": []
   },
   "outputs": [
    {
     "name": "stdout",
     "output_type": "stream",
     "text": [
      "FAILED BECAUSE GOOGLE SEARCH OUTPUT CHANGED!\n",
      "FAILED BECAUSE GOOGLE SEARCH OUTPUT CHANGED!\n",
      "['https://www.datacamp.com/blog/top-ai-conferences', 'https://www.travelperk.com/blog/best-AI-conferences/', 'https://cvpr.thecvf.com/', 'https://ranlp.org/ranlp2025/', 'http://www.wikicfp.com/cfp/call?conference=computer%20vision', 'https://conferenceindex.org/conferences/computer-vision/germany', 'https://riseof.ai/conference-2025/', 'https://bigevent.io/ai-conferences/', 'https://visapp.scitevents.org/', 'http://www.wikicfp.com/cfp/call?conference=NLP', 'http://conferences.visionbib.com/Iris-Conferences.html', 'https://www.icnlp.net/', 'https://kristihines.com/ai-conferences/', 'https://www.nlpai.org/', 'https://www.aclweb.org/portal/events?order=field_event_date&sort=desc']\n"
     ]
    }
   ],
   "source": [
    "urls = list({url['url'] for query in queries for url in get_top_urls_for_google_search_query(query)})\n",
    "print(urls)\n"
   ]
  },
  {
   "cell_type": "code",
   "execution_count": 34,
   "id": "84b3bf68-b7ae-4a69-bb92-25ef6e2f464a",
   "metadata": {
    "tags": []
   },
   "outputs": [
    {
     "name": "stdout",
     "output_type": "stream",
     "text": [
      "['https://iotworldmagazine.com/2024/03/29/2202/list-of-top-24-ai-conferences-in-2024-and-2025', 'https://icaart.scitevents.org/', 'http://www.wikicfp.com/cfp/call?conference=NLP', 'https://internationalconferencealerts.com/blog/upcoming-computer-vision-conferences/', 'https://eventify.io/blog/ai-and-machine-learning-conferences', 'https://www.datacamp.com/blog/top-ai-conferences', 'https://www.datacamp.com/blog/top-machine-learning-conferences', 'https://ranlp.org/ranlp2025/', 'https://tsuji.tech/conferences-list-2025/', 'https://www.icnlp.net/', 'https://www.aclweb.org/portal/content/shared-tasks-conference-recent-advances-natural-language-processing-2025', 'https://aideadlin.es/', 'https://bigevent.io/ai-conferences/', 'https://www.clnlp.org/', 'https://www.travelperk.com/blog/best-AI-conferences/', 'https://tryolabs.com/blog/machine-learning-deep-learning-conferences', 'https://scholar.google.com/citations?view_op=top_venues&hl=en&vq=eng_computervisionpatternrecognition']\n"
     ]
    }
   ],
   "source": [
    "urls = list({url['url'] for query in queries for url in get_top_urls_for_google_search_query(query)})\n",
    "print(urls)\n"
   ]
  },
  {
   "cell_type": "markdown",
   "id": "1c5ffe8b-44fc-41fe-86c3-bf817420e65f",
   "metadata": {},
   "source": [
    "###  Markdowns"
   ]
  },
  {
   "cell_type": "code",
   "execution_count": 13,
   "id": "061d2043-bc04-46f9-9cbd-9ea3dbac7541",
   "metadata": {
    "tags": []
   },
   "outputs": [],
   "source": [
    "markdowns = scrape_and_convert_to_markdown(urls)"
   ]
  },
  {
   "cell_type": "code",
   "execution_count": 14,
   "id": "f5889937-574d-47f4-977b-05ad1e14b4f5",
   "metadata": {},
   "outputs": [
    {
     "data": {
      "text/plain": [
       "15"
      ]
     },
     "execution_count": 14,
     "metadata": {},
     "output_type": "execute_result"
    }
   ],
   "source": [
    "len(markdowns)"
   ]
  },
  {
   "cell_type": "markdown",
   "id": "1520fb11-f9fa-4c69-bb60-10a121a8cc30",
   "metadata": {},
   "source": [
    "### Get conference details"
   ]
  },
  {
   "cell_type": "code",
   "execution_count": null,
   "id": "e478711a-3c42-41ba-9542-81defdbd66d1",
   "metadata": {},
   "outputs": [
    {
     "name": "stdout",
     "output_type": "stream",
     "text": [
      "Working on 1/15:\n",
      "Working on 2/15:\n"
     ]
    }
   ],
   "source": [
    "import torch\n",
    "torch.cuda.empty_cache()\n",
    "conferences  = ask_llm_for_conferences(llm_groq, markdowns)\n"
   ]
  },
  {
   "cell_type": "code",
   "execution_count": 41,
   "id": "eeb58eb6-b8ac-47bb-86bb-8debdd82265b",
   "metadata": {},
   "outputs": [
    {
     "data": {
      "text/plain": [
       "0"
      ]
     },
     "execution_count": 41,
     "metadata": {},
     "output_type": "execute_result"
    }
   ],
   "source": [
    "import gc\n",
    "gc.collect()"
   ]
  },
  {
   "cell_type": "code",
   "execution_count": 42,
   "id": "102ed986-34cb-4a64-a011-326bc15982be",
   "metadata": {
    "tags": []
   },
   "outputs": [],
   "source": [
    "import torch\n",
    "torch.cuda.empty_cache()"
   ]
  },
  {
   "cell_type": "code",
   "execution_count": 40,
   "id": "52c5268c-26c3-4ee4-ba5d-c2138cd464b9",
   "metadata": {
    "tags": []
   },
   "outputs": [],
   "source": [
    "torch.cuda.reset_peak_memory_stats()\n",
    "torch.cuda.reset_accumulated_memory_stats()\n"
   ]
  },
  {
   "cell_type": "code",
   "execution_count": null,
   "id": "4063d3f6-c5a9-4100-b0c2-a5385e63d26a",
   "metadata": {},
   "outputs": [],
   "source": []
  },
  {
   "cell_type": "code",
   "execution_count": 18,
   "id": "1fc6a1f6-32dc-49fd-b35d-f1ae3cf2a641",
   "metadata": {},
   "outputs": [],
   "source": [
    "x = ['After scraping the content, I extracted the top academic AI conferences in 2025 in the format of a JSON list as per the provided schema:\\n\\n```\\n{\\n  \"conferences\": [\\n    {\\n      \"name\": \"AAAI 2025\",\\n      \"location\": \"Washington, D.C., USA\",\\n      \"date\": \"27/02/2025 - 03/03/2025\"\\n    },\\n    {\\n      \"name\": \"ICML 2025\",\\n      \"location\": \"Paris, France\",\\n      \"date\": \"21/07/2025 - 25/07/2025\"\\n    },\\n    {\\n      \"name\": \"IJCAI 2025\",\\n      \"location\": \"Bangkok, Thailand\",\\n      \"date\": \"11/07/2025 - 17/07/2025\"\\n    },\\n    {\\n      \"name\": \"NeurIPS 2025\",\\n      \"location\": \"New Orleans, Louisiana, USA\",\\n      \"date\": \"06/12/2025 - 12/12/2025\"\\n    },\\n    {\\n      \"name\": \"CVPR 2025\",\\n      \"location\": \"Vancouver, British Columbia, Canada\",\\n      \"date\": \"14/06/2025 - 18/06/2025\"\\n    },\\n    {\\n      \"name\": \"ICCV 2025\",\\n      \"location\": \"Seoul, South Korea\",\\n      \"date\": \"08/10/2025 - 12/10/2025\"\\n    },\\n    {\\n      \"name\": \"ECCV 2025\",\\n      \"location\": \"Tel Aviv, Israel\",\\n      \"date\": \"25/08/2025 - 29/08/2025\"\\n    },\\n    {\\n      \"name\": \"ACL 2025\",\\n      \"location\": \"Tokyo, Japan\",\\n      \"date\": \"15/07/2025 - 20/07/2025\"\\n    },\\n    {\\n      \"name\": \"EMNLP 2025\",\\n      \"location\": \"Lisbon, Portugal\",\\n      \"date\": \"10/11/2025 - 14/11/2025\"\\n    },\\n    {\\n      \"name\": \"ICASSP 2025\",\\n      \"location\": \"Rhodes, Greece\",\\n      \"date\": \"18/05/2025 - 22/05/2025\"\\n    },\\n    {\\n      \"name\": \"ICRA 2025\",\\n      \"location\": \"Stockholm, Sweden\",\\n      \"date\": \"03/05/2025 - 07/05/2025\"\\n    },\\n    {\\n      \"name\": \"IJCNN 2025\",\\n      \"location\": \"Rio de Janeiro, Brazil\",\\n      \"date\": \"12/07/2025 - 17/07/2025\"\\n    },\\n    {\\n      \"name\": \"ACML 2025\",\\n      \"location\": \"Auckland, New Zealand\",\\n      \"date\": \"04/11/2025 - 06/11/2025\"\\n    }\\n  ]\\n}\\n```\\n\\nPlease note that the dates and locations are subject to change, and it\\'s always best to verify the information with the official conference websites.']"
   ]
  },
  {
   "cell_type": "code",
   "execution_count": 20,
   "id": "b20a69cb-ee63-4f74-a213-40a65ce1574b",
   "metadata": {},
   "outputs": [
    {
     "name": "stdout",
     "output_type": "stream",
     "text": [
      "['After scraping the content, I extracted the top academic AI conferences in 2025 in the format of a JSON list as per the provided schema:\\n\\n```\\n{\\n  \"conferences\": [\\n    {\\n      \"name\": \"AAAI 2025\",\\n      \"location\": \"Washington, D.C., USA\",\\n      \"date\": \"27/02/2025 - 03/03/2025\"\\n    },\\n    {\\n      \"name\": \"ICML 2025\",\\n      \"location\": \"Paris, France\",\\n      \"date\": \"21/07/2025 - 25/07/2025\"\\n    },\\n    {\\n      \"name\": \"IJCAI 2025\",\\n      \"location\": \"Bangkok, Thailand\",\\n      \"date\": \"11/07/2025 - 17/07/2025\"\\n    },\\n    {\\n      \"name\": \"NeurIPS 2025\",\\n      \"location\": \"New Orleans, Louisiana, USA\",\\n      \"date\": \"06/12/2025 - 12/12/2025\"\\n    },\\n    {\\n      \"name\": \"CVPR 2025\",\\n      \"location\": \"Vancouver, British Columbia, Canada\",\\n      \"date\": \"14/06/2025 - 18/06/2025\"\\n    },\\n    {\\n      \"name\": \"ICCV 2025\",\\n      \"location\": \"Seoul, South Korea\",\\n      \"date\": \"08/10/2025 - 12/10/2025\"\\n    },\\n    {\\n      \"name\": \"ECCV 2025\",\\n      \"location\": \"Tel Aviv, Israel\",\\n      \"date\": \"25/08/2025 - 29/08/2025\"\\n    },\\n    {\\n      \"name\": \"ACL 2025\",\\n      \"location\": \"Tokyo, Japan\",\\n      \"date\": \"15/07/2025 - 20/07/2025\"\\n    },\\n    {\\n      \"name\": \"EMNLP 2025\",\\n      \"location\": \"Lisbon, Portugal\",\\n      \"date\": \"10/11/2025 - 14/11/2025\"\\n    },\\n    {\\n      \"name\": \"ICASSP 2025\",\\n      \"location\": \"Rhodes, Greece\",\\n      \"date\": \"18/05/2025 - 22/05/2025\"\\n    },\\n    {\\n      \"name\": \"ICRA 2025\",\\n      \"location\": \"Stockholm, Sweden\",\\n      \"date\": \"03/05/2025 - 07/05/2025\"\\n    },\\n    {\\n      \"name\": \"IJCNN 2025\",\\n      \"location\": \"Rio de Janeiro, Brazil\",\\n      \"date\": \"12/07/2025 - 17/07/2025\"\\n    },\\n    {\\n      \"name\": \"ACML 2025\",\\n      \"location\": \"Auckland, New Zealand\",\\n      \"date\": \"04/11/2025 - 06/11/2025\"\\n    }\\n  ]\\n}\\n```\\n\\nPlease note that the dates and locations are subject to change, and it\\'s always best to verify the information with the official conference websites.']\n"
     ]
    }
   ],
   "source": [
    "print(['After scraping the content, I extracted the top academic AI conferences in 2025 in the format of a JSON list as per the provided schema:\\n\\n```\\n{\\n  \"conferences\": [\\n    {\\n      \"name\": \"AAAI 2025\",\\n      \"location\": \"Washington, D.C., USA\",\\n      \"date\": \"27/02/2025 - 03/03/2025\"\\n    },\\n    {\\n      \"name\": \"ICML 2025\",\\n      \"location\": \"Paris, France\",\\n      \"date\": \"21/07/2025 - 25/07/2025\"\\n    },\\n    {\\n      \"name\": \"IJCAI 2025\",\\n      \"location\": \"Bangkok, Thailand\",\\n      \"date\": \"11/07/2025 - 17/07/2025\"\\n    },\\n    {\\n      \"name\": \"NeurIPS 2025\",\\n      \"location\": \"New Orleans, Louisiana, USA\",\\n      \"date\": \"06/12/2025 - 12/12/2025\"\\n    },\\n    {\\n      \"name\": \"CVPR 2025\",\\n      \"location\": \"Vancouver, British Columbia, Canada\",\\n      \"date\": \"14/06/2025 - 18/06/2025\"\\n    },\\n    {\\n      \"name\": \"ICCV 2025\",\\n      \"location\": \"Seoul, South Korea\",\\n      \"date\": \"08/10/2025 - 12/10/2025\"\\n    },\\n    {\\n      \"name\": \"ECCV 2025\",\\n      \"location\": \"Tel Aviv, Israel\",\\n      \"date\": \"25/08/2025 - 29/08/2025\"\\n    },\\n    {\\n      \"name\": \"ACL 2025\",\\n      \"location\": \"Tokyo, Japan\",\\n      \"date\": \"15/07/2025 - 20/07/2025\"\\n    },\\n    {\\n      \"name\": \"EMNLP 2025\",\\n      \"location\": \"Lisbon, Portugal\",\\n      \"date\": \"10/11/2025 - 14/11/2025\"\\n    },\\n    {\\n      \"name\": \"ICASSP 2025\",\\n      \"location\": \"Rhodes, Greece\",\\n      \"date\": \"18/05/2025 - 22/05/2025\"\\n    },\\n    {\\n      \"name\": \"ICRA 2025\",\\n      \"location\": \"Stockholm, Sweden\",\\n      \"date\": \"03/05/2025 - 07/05/2025\"\\n    },\\n    {\\n      \"name\": \"IJCNN 2025\",\\n      \"location\": \"Rio de Janeiro, Brazil\",\\n      \"date\": \"12/07/2025 - 17/07/2025\"\\n    },\\n    {\\n      \"name\": \"ACML 2025\",\\n      \"location\": \"Auckland, New Zealand\",\\n      \"date\": \"04/11/2025 - 06/11/2025\"\\n    }\\n  ]\\n}\\n```\\n\\nPlease note that the dates and locations are subject to change, and it\\'s always best to verify the information with the official conference websites.'])"
   ]
  },
  {
   "cell_type": "code",
   "execution_count": 23,
   "id": "20c78a11-9ef9-4fd6-bf7d-fc360423ce7c",
   "metadata": {},
   "outputs": [
    {
     "name": "stdout",
     "output_type": "stream",
     "text": [
      "After scraping the content, I extracted the top academic AI conferences in 2025 in the format of a JSON list as per the provided schema:\n",
      "\n",
      "```\n",
      "{\n",
      "  \"conferences\": [\n",
      "    {\n",
      "      \"name\": \"AAAI 2025\",\n",
      "      \"location\": \"Washington, D.C., USA\",\n",
      "      \"date\": \"27/02/2025 - 03/03/2025\"\n",
      "    },\n",
      "    {\n",
      "      \"name\": \"ICML 2025\",\n",
      "      \"location\": \"Paris, France\",\n",
      "      \"date\": \"21/07/2025 - 25/07/2025\"\n",
      "    },\n",
      "    {\n",
      "      \"name\": \"IJCAI 2025\",\n",
      "      \"location\": \"Bangkok, Thailand\",\n",
      "      \"date\": \"11/07/2025 - 17/07/2025\"\n",
      "    },\n",
      "    {\n",
      "      \"name\": \"NeurIPS 2025\",\n",
      "      \"location\": \"New Orleans, Louisiana, USA\",\n",
      "      \"date\": \"06/12/2025 - 12/12/2025\"\n",
      "    },\n",
      "    {\n",
      "      \"name\": \"CVPR 2025\",\n",
      "      \"location\": \"Vancouver, British Columbia, Canada\",\n",
      "      \"date\": \"14/06/2025 - 18/06/2025\"\n",
      "    },\n",
      "    {\n",
      "      \"name\": \"ICCV 2025\",\n",
      "      \"location\": \"Seoul, South Korea\",\n",
      "      \"date\": \"08/10/2025 - 12/10/2025\"\n",
      "    },\n",
      "    {\n",
      "      \"name\": \"ECCV 2025\",\n",
      "      \"location\": \"Tel Aviv, Israel\",\n",
      "      \"date\": \"25/08/2025 - 29/08/2025\"\n",
      "    },\n",
      "    {\n",
      "      \"name\": \"ACL 2025\",\n",
      "      \"location\": \"Tokyo, Japan\",\n",
      "      \"date\": \"15/07/2025 - 20/07/2025\"\n",
      "    },\n",
      "    {\n",
      "      \"name\": \"EMNLP 2025\",\n",
      "      \"location\": \"Lisbon, Portugal\",\n",
      "      \"date\": \"10/11/2025 - 14/11/2025\"\n",
      "    },\n",
      "    {\n",
      "      \"name\": \"ICASSP 2025\",\n",
      "      \"location\": \"Rhodes, Greece\",\n",
      "      \"date\": \"18/05/2025 - 22/05/2025\"\n",
      "    },\n",
      "    {\n",
      "      \"name\": \"ICRA 2025\",\n",
      "      \"location\": \"Stockholm, Sweden\",\n",
      "      \"date\": \"03/05/2025 - 07/05/2025\"\n",
      "    },\n",
      "    {\n",
      "      \"name\": \"IJCNN 2025\",\n",
      "      \"location\": \"Rio de Janeiro, Brazil\",\n",
      "      \"date\": \"12/07/2025 - 17/07/2025\"\n",
      "    },\n",
      "    {\n",
      "      \"name\": \"ACML 2025\",\n",
      "      \"location\": \"Auckland, New Zealand\",\n",
      "      \"date\": \"04/11/2025 - 06/11/2025\"\n",
      "    }\n",
      "  ]\n",
      "}\n",
      "```\n",
      "\n",
      "Please note that the dates and locations are subject to change, and it's always best to verify the information with the official conference websites.\n"
     ]
    }
   ],
   "source": [
    "print(x[0])"
   ]
  },
  {
   "cell_type": "code",
   "execution_count": null,
   "id": "b610c7c4-8a20-477d-bc5a-63e11d9775f6",
   "metadata": {},
   "outputs": [],
   "source": []
  },
  {
   "cell_type": "code",
   "execution_count": null,
   "id": "68d4c5b2-5651-4f90-8a7e-45e08f1d1f41",
   "metadata": {},
   "outputs": [],
   "source": []
  },
  {
   "cell_type": "code",
   "execution_count": null,
   "id": "3168266e-d230-4542-87a6-ecf8dc21b047",
   "metadata": {},
   "outputs": [],
   "source": []
  },
  {
   "cell_type": "code",
   "execution_count": null,
   "id": "f12d39aa-18f5-4009-b7bf-6b3b502af24f",
   "metadata": {},
   "outputs": [],
   "source": [
    "client = QdrantClient(path=\"embeddings\")\n",
    "downloaded_embedding_model_path = hf_hub_download(repo_id=\"mixedbread-ai/mxbai-embed-large-v1\", filename=\"gguf/mxbai-embed-large-v1-f16.gguf\")\n",
    "llm_embedding = Llama(model_path=downloaded_embedding_model_path, n_gpu_layers=-1, embedding=True, verbose=False)\n",
    "\n",
    "downloaded_model_path = hf_hub_download(repo_id=\"bartowski/Llama-3.2-3B-Instruct-GGUF\", filename=\"Llama-3.2-3B-Instruct-Q6_K_L.gguf\")\n",
    "llm = Llama(model_path=downloaded_model_path, n_ctx=16384, n_gpu_layers=-1, verbose=False)"
   ]
  }
 ],
 "metadata": {
  "kernelspec": {
   "display_name": "Python DSPY-ENV",
   "language": "python",
   "name": "dspy-env"
  },
  "language_info": {
   "codemirror_mode": {
    "name": "ipython",
    "version": 3
   },
   "file_extension": ".py",
   "mimetype": "text/x-python",
   "name": "python",
   "nbconvert_exporter": "python",
   "pygments_lexer": "ipython3",
   "version": "3.11.6"
  }
 },
 "nbformat": 4,
 "nbformat_minor": 5
}
